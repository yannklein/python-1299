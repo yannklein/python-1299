{
 "cells": [
  {
   "cell_type": "markdown",
   "metadata": {},
   "source": [
    "# Recap - Python Basics\n",
    "\n",
    "This is a set of small independent assignments to recap the concepts of the day.\n",
    "\n",
    "## 1. Variables\n",
    "\n",
    "Create a `country` variable and assign your favorite country to it. Print it"
   ]
  },
  {
   "cell_type": "code",
   "execution_count": 11,
   "metadata": {
    "tags": [
     "challengify"
    ]
   },
   "outputs": [
    {
     "name": "stdout",
     "output_type": "stream",
     "text": [
      "Japan\n"
     ]
    }
   ],
   "source": [
    "country = \"Japan\"\n",
    "print(country)"
   ]
  },
  {
   "cell_type": "markdown",
   "metadata": {},
   "source": [
    "Create an `animal` variable and assign your favorite animal to it. Print it"
   ]
  },
  {
   "cell_type": "code",
   "execution_count": 24,
   "metadata": {
    "tags": [
     "challengify"
    ]
   },
   "outputs": [
    {
     "name": "stdout",
     "output_type": "stream",
     "text": [
      "lontra\n"
     ]
    }
   ],
   "source": [
    "animal = \"lontra\" # otter in english\n",
    "print(animal)"
   ]
  },
  {
   "cell_type": "markdown",
   "metadata": {},
   "source": [
    "Create an `animal_count` variable with any positive integer in it. Print it"
   ]
  },
  {
   "cell_type": "code",
   "execution_count": 25,
   "metadata": {
    "tags": [
     "challengify"
    ]
   },
   "outputs": [
    {
     "name": "stdout",
     "output_type": "stream",
     "text": [
      "10\n"
     ]
    }
   ],
   "source": [
    "animal_count = 10\n",
    "print(animal_count)"
   ]
  },
  {
   "cell_type": "markdown",
   "metadata": {},
   "source": [
    "Print out a string using all your variables that follows this format:\n",
    "`\"I just ordered 200 monkeys from Denmark\"`\n",
    "\n",
    "**Hint**: use interpolation"
   ]
  },
  {
   "cell_type": "code",
   "execution_count": 28,
   "metadata": {
    "tags": [
     "challengify"
    ]
   },
   "outputs": [
    {
     "name": "stdout",
     "output_type": "stream",
     "text": [
      "I just ordered 10 lontras from Japan\n"
     ]
    }
   ],
   "source": [
    "if animal_count > 1:\n",
    "    print(f\"I just ordered {animal_count} {animal}s from {country}\")\n",
    "else:\n",
    "    print(f\"I just ordered {animal_count} {animal} from {country}\")"
   ]
  },
  {
   "cell_type": "code",
   "execution_count": 29,
   "metadata": {},
   "outputs": [
    {
     "name": "stdout",
     "output_type": "stream",
     "text": [
      "I just ordered 10 lontras from Japan\n"
     ]
    }
   ],
   "source": [
    "print(f\"I just ordered {animal_count} {animal}{'s' if animal_count > 1 else ''} from {country}\")"
   ]
  },
  {
   "cell_type": "markdown",
   "metadata": {},
   "source": [
    "---\n",
    "## 2. Data Types\n",
    "Now it's time to talk about data types. The first question to ask yourself before starting any coding task, is to determine which data types you're working with.\n",
    "\n",
    "Run the following cells and pay attention to the variables initialized:"
   ]
  },
  {
   "cell_type": "code",
   "execution_count": 30,
   "metadata": {},
   "outputs": [
    {
     "name": "stdout",
     "output_type": "stream",
     "text": [
      "Variables are now defined!\n"
     ]
    }
   ],
   "source": [
    "pi = 3.14\n",
    "food = 'pizza'\n",
    "colors = ['red', 'blue', 'yellow']\n",
    "print(\"Variables are now defined!\")"
   ]
  },
  {
   "cell_type": "markdown",
   "metadata": {},
   "source": [
    "Assign each variable's correct data types (`str`, `float`, `list`) to new variables called `pi_type`, `food_type`, and `colors_type`. Then run the lower cell. \n",
    "\n",
    "The cell should display `True` when you define the right data types."
   ]
  },
  {
   "cell_type": "code",
   "execution_count": 31,
   "metadata": {},
   "outputs": [],
   "source": [
    "pi_type = float\n",
    "food_type = str\n",
    "colors_type = list"
   ]
  },
  {
   "cell_type": "code",
   "execution_count": 32,
   "metadata": {},
   "outputs": [
    {
     "data": {
      "text/plain": [
       "True"
      ]
     },
     "execution_count": 32,
     "metadata": {},
     "output_type": "execute_result"
    }
   ],
   "source": [
    "type(pi) == pi_type \\\n",
    "and type(food) == food_type \\\n",
    "and type(colors) == colors_type"
   ]
  },
  {
   "cell_type": "markdown",
   "metadata": {},
   "source": [
    "Let's try to work with other data types. This time there's no hint."
   ]
  },
  {
   "cell_type": "code",
   "execution_count": 33,
   "metadata": {},
   "outputs": [
    {
     "name": "stdout",
     "output_type": "stream",
     "text": [
      "Variables are now defined!\n"
     ]
    }
   ],
   "source": [
    "user_profile = {'email': 'buffy@gmail.com', 'age': 19, 'password': 'hunter2', 'profession': 'Vampire Slayer' }\n",
    "shapes = ('square', 'round', 'hexagonic')\n",
    "age = 25\n",
    "age_valid = (age < 18)\n",
    "print(\"Variables are now defined!\")"
   ]
  },
  {
   "cell_type": "markdown",
   "metadata": {},
   "source": [
    "Let's repeat the exercise from before with the new variables. Start by defining `user_profile_type`, `shapes_type`, and `age_valid_type`. Once again, the cell should display `True` when you're done."
   ]
  },
  {
   "cell_type": "code",
   "execution_count": 34,
   "metadata": {},
   "outputs": [],
   "source": [
    "user_profile_type = dict\n",
    "shapes_type = tuple\n",
    "age_valid_type = bool"
   ]
  },
  {
   "cell_type": "code",
   "execution_count": 35,
   "metadata": {},
   "outputs": [
    {
     "data": {
      "text/plain": [
       "True"
      ]
     },
     "execution_count": 35,
     "metadata": {},
     "output_type": "execute_result"
    }
   ],
   "source": [
    "type(shapes) == shapes_type \\\n",
    "and type(user_profile) == user_profile_type \\\n",
    "and type(age_valid) == age_valid_type"
   ]
  },
  {
   "cell_type": "markdown",
   "metadata": {},
   "source": [
    "---\n",
    "\n",
    "## 3. Functions\n",
    "\n",
    "Create a fuction `credit_card_industry` which takes one parameter (a `str` storing a credit card number like `\"4242 4242 4242 4242\"` for instance) and **return** one of the following industries:\n",
    "\n",
    "- Airline\n",
    "- Visa\n",
    "- Mastercard\n",
    "- Other\n",
    "\n",
    "This [article](https://www.thebalance.com/what-do-the-numbers-on-your-credit-card-mean-4588401) will prove handy if you don't know how to determine this from the number."
   ]
  },
  {
   "cell_type": "code",
   "execution_count": 37,
   "metadata": {
    "tags": [
     "challengify"
    ]
   },
   "outputs": [],
   "source": [
    "# YOUR CODE HERE\n",
    "def credit_card_industry(card_number):\n",
    "# find the first number and store it in variable\n",
    "    if int(card_number[0]) == 1:\n",
    "        return \"airline\"\n",
    "    elif int(card_number[0]) == 4:\n",
    "        return \"Visa\"\n",
    "    elif int(card_number[0]) == 5:\n",
    "        return \"Master card\"\n",
    "    return \"other\"\n",
    "    "
   ]
  },
  {
   "cell_type": "code",
   "execution_count": 48,
   "metadata": {},
   "outputs": [],
   "source": [
    "# def credit_card_industry(card_number):\n",
    "# # find the first number and store it in variable\n",
    "#     first_num = int(card_number[0])\n",
    "# #   if card_number[0].startswith(1):\n",
    "#     if first_num == 1:\n",
    "#         return \"airline\"\n",
    "#     if first_num == 4:\n",
    "#         return \"Visa\"\n",
    "#     if first_num == 5:\n",
    "#         return \"Master card\"\n",
    "#     return \"other\"\n",
    "\n",
    "def credit_card_industry(card_number):\n",
    "# find the first number and store it in variable\n",
    "    industries = {\n",
    "        '1': 'Airline',\n",
    "        '4': 'Visa',\n",
    "        '5': 'Mastercard'\n",
    "    }\n",
    "    return industries.get(card_number[0], 'Other')"
   ]
  },
  {
   "cell_type": "markdown",
   "metadata": {},
   "source": [
    "Call this function and **print** the result for the following card numbers:\n",
    "\n",
    "- `\"4539 0132 4843 4768\"`\n",
    "- `\"5131 9376 6800 4058\"`\n",
    "- `\"3762 8789 1971 1060\"`\n",
    "- `\"1002 0494 8191 1719\"`"
   ]
  },
  {
   "cell_type": "code",
   "execution_count": 49,
   "metadata": {},
   "outputs": [
    {
     "data": {
      "text/plain": [
       "'Visa'"
      ]
     },
     "execution_count": 49,
     "metadata": {},
     "output_type": "execute_result"
    }
   ],
   "source": [
    "credit_card_industry(\"4539 0132 4843 4768\")"
   ]
  },
  {
   "cell_type": "code",
   "execution_count": 50,
   "metadata": {},
   "outputs": [
    {
     "data": {
      "text/plain": [
       "'Mastercard'"
      ]
     },
     "execution_count": 50,
     "metadata": {},
     "output_type": "execute_result"
    }
   ],
   "source": [
    "credit_card_industry(\"5131 9376 6800 4058\")"
   ]
  },
  {
   "cell_type": "code",
   "execution_count": 51,
   "metadata": {},
   "outputs": [
    {
     "data": {
      "text/plain": [
       "'Other'"
      ]
     },
     "execution_count": 51,
     "metadata": {},
     "output_type": "execute_result"
    }
   ],
   "source": [
    "credit_card_industry(\"9131 9376 6800 4058\")"
   ]
  },
  {
   "cell_type": "markdown",
   "metadata": {},
   "source": [
    "---\n",
    "## 4. Lists\n",
    "\n",
    "Create a `genres` variable with a list of 3 different movie genres as strings. Print the list."
   ]
  },
  {
   "cell_type": "code",
   "execution_count": 67,
   "metadata": {
    "tags": [
     "challengify"
    ]
   },
   "outputs": [
    {
     "name": "stdout",
     "output_type": "stream",
     "text": [
      "['horror', 'action', 'comedy']\n"
     ]
    }
   ],
   "source": [
    "genres = ['horror', 'action', 'comedy']\n",
    "print(genres)"
   ]
  },
  {
   "cell_type": "markdown",
   "metadata": {},
   "source": [
    "Add another genre to the list. Print the whole list."
   ]
  },
  {
   "cell_type": "code",
   "execution_count": 68,
   "metadata": {
    "tags": [
     "challengify"
    ]
   },
   "outputs": [
    {
     "name": "stdout",
     "output_type": "stream",
     "text": [
      "['horror', 'action', 'comedy', 'sci-fi']\n"
     ]
    }
   ],
   "source": [
    "genres.append('sci-fi')\n",
    "print(genres)"
   ]
  },
  {
   "cell_type": "markdown",
   "metadata": {},
   "source": [
    "Change the name of the second genre on the list. Print the whole list"
   ]
  },
  {
   "cell_type": "code",
   "execution_count": 69,
   "metadata": {
    "tags": [
     "challengify"
    ]
   },
   "outputs": [
    {
     "name": "stdout",
     "output_type": "stream",
     "text": [
      "['horror', 'super action', 'comedy', 'sci-fi']\n"
     ]
    }
   ],
   "source": [
    "genres[1] = 'super action'\n",
    "print(genres)"
   ]
  },
  {
   "cell_type": "markdown",
   "metadata": {},
   "source": [
    "Print each genre (sorted) to the terminal following this format (use a for loop with enumerate):\n",
    "\n",
    "```\n",
    "1 - Action\n",
    "2 - Comedy\n",
    "3 - Drama\n",
    "4 - Thriller\n",
    "```"
   ]
  },
  {
   "cell_type": "code",
   "execution_count": 70,
   "metadata": {
    "tags": [
     "challengify"
    ]
   },
   "outputs": [
    {
     "name": "stdout",
     "output_type": "stream",
     "text": [
      "1 - Comedy\n",
      "2 - Horror\n",
      "3 - Sci-fi\n",
      "4 - Super action\n"
     ]
    }
   ],
   "source": [
    "for index, item in enumerate(sorted(genres)):\n",
    "    print(f'{index+1} - {item.capitalize()}')"
   ]
  },
  {
   "cell_type": "code",
   "execution_count": 72,
   "metadata": {},
   "outputs": [
    {
     "name": "stdout",
     "output_type": "stream",
     "text": [
      "1 - Comedy\n",
      "2 - Horror\n",
      "3 - Sci-fi\n",
      "4 - Super action\n"
     ]
    }
   ],
   "source": [
    "genres.sort()\n",
    "for index, item in enumerate(genres):\n",
    "    print(f'{index+1} - {item.capitalize()}')"
   ]
  },
  {
   "cell_type": "code",
   "execution_count": 104,
   "metadata": {},
   "outputs": [
    {
     "name": "stdout",
     "output_type": "stream",
     "text": [
      "None ['comedy', 'horror', 'sci-fi', 'super action']\n"
     ]
    }
   ],
   "source": [
    "# sorted_genres = sorted(genres)\n",
    "# print(sorted_genres, genres)\n",
    "\n",
    "# sorted(my_list) returns a new sorted list, doesn't change the original my_list\n",
    "# my_list.sort() returns None, sorts (=changes) the original my_list (we call it a destructive function)\n",
    "other_sorted_genres = genres.sort()\n",
    "print(other_sorted_genres, genres)"
   ]
  },
  {
   "cell_type": "markdown",
   "metadata": {},
   "source": [
    "---\n",
    "## 5. Dictionaries\n",
    "\n",
    "Create a `movie` variable with a dictionary containing information about any movie. It should contain the keys `year` and `title` with appropriate values. You can get some inspiration on [IMDB](https://www.imdb.com/search/title/?count=100&groups=top_1000&sort=user_rating)"
   ]
  },
  {
   "cell_type": "code",
   "execution_count": 75,
   "metadata": {
    "tags": [
     "challengify"
    ]
   },
   "outputs": [],
   "source": [
    "# YOUR CODE HERE\n",
    "movie = {\"title\": \"The Shawshank Redemption\", \"year\": 1994}"
   ]
  },
  {
   "cell_type": "markdown",
   "metadata": {},
   "source": [
    "Add a `director` key to the dictonary with the appropriate value. Print the `movie` dictionary"
   ]
  },
  {
   "cell_type": "code",
   "execution_count": 79,
   "metadata": {
    "tags": [
     "challengify"
    ]
   },
   "outputs": [
    {
     "data": {
      "text/plain": [
       "{'title': 'The Shawshank Redemption', 'year': 1994, 'director': 'Steven'}"
      ]
     },
     "execution_count": 79,
     "metadata": {},
     "output_type": "execute_result"
    }
   ],
   "source": [
    "movie['director'] = 'Steven'\n",
    "movie"
   ]
  },
  {
   "cell_type": "markdown",
   "metadata": {},
   "source": [
    "Create a `movies` variable and initialize it with an empty list."
   ]
  },
  {
   "cell_type": "code",
   "execution_count": 87,
   "metadata": {
    "tags": [
     "challengify"
    ]
   },
   "outputs": [],
   "source": [
    "movies = []"
   ]
  },
  {
   "cell_type": "markdown",
   "metadata": {},
   "source": [
    "Add your `movie` to the list along with two more movies, with the same keys as the first one. Then print the entire list"
   ]
  },
  {
   "cell_type": "code",
   "execution_count": 88,
   "metadata": {
    "tags": [
     "challengify"
    ]
   },
   "outputs": [
    {
     "data": {
      "text/plain": [
       "[{'title': 'The Shawshank Redemption', 'year': 1994, 'director': 'Steven'},\n",
       " {'title': 'Interstellar', 'year': 2015, 'director': 'Nolan'}]"
      ]
     },
     "execution_count": 88,
     "metadata": {},
     "output_type": "execute_result"
    }
   ],
   "source": [
    "movies.append(movie)\n",
    "movies.append({'title' : 'Interstellar', 'year' : 2015 , 'director' : 'Nolan'})\n",
    "\n",
    "movies"
   ]
  },
  {
   "cell_type": "markdown",
   "metadata": {},
   "source": [
    "Finally, print the `movies` list line by line in the terminal in the following format (using a `for` loop):\n",
    "```\n",
    "Terminator by James Cameron was released in 1984\n",
    "Godfather by Francis Ford Coppolla was released in 1972\n",
    "The Matrix by The Wachowski Brothers was released in 1999\n",
    "```"
   ]
  },
  {
   "cell_type": "code",
   "execution_count": 91,
   "metadata": {
    "tags": [
     "challengify"
    ]
   },
   "outputs": [
    {
     "name": "stdout",
     "output_type": "stream",
     "text": [
      "The Shawshank Redemption by Steven was realesed in 1994\n",
      "Interstellar by Nolan was realesed in 2015\n"
     ]
    }
   ],
   "source": [
    "for movie in movies:\n",
    "    print(f\"{movie['title']} by {movie['director']} was realesed in {movie['year']}\")\n",
    "\n",
    "\n",
    "\n"
   ]
  },
  {
   "cell_type": "markdown",
   "metadata": {},
   "source": [
    "---\n",
    "## 6. Dictionaries + Lists\n",
    "\n",
    "Often when we're dealing with data, we have to find our way around a big dictionary. This can be a bit intimidating at first. But have no fear, once you get the hang of it, it's quite comfortable to navigate. When we're dealing with bigger dictionaries, it's important to take the time and read through it, knowing what kind of data types are stored and what structure it has. \n",
    "\n",
    "It's often a small subset of the information we're interested in looking at, so we need to know how to precisely access it. Start by running the cell below:"
   ]
  },
  {
   "cell_type": "markdown",
   "metadata": {},
   "source": [
    "What does `movie['actors']['support'][2]` return?"
   ]
  },
  {
   "cell_type": "markdown",
   "metadata": {},
   "source": [
    "Try to guess the answer to the questions without writing any code. Then try the code out for yourself to test your theory.\n",
    "\n",
    "What does `movie['title']['fr']` return? "
   ]
  },
  {
   "cell_type": "code",
   "execution_count": 93,
   "metadata": {},
   "outputs": [
    {
     "data": {
      "text/plain": [
       "'Le Chevalier Noir'"
      ]
     },
     "execution_count": 93,
     "metadata": {},
     "output_type": "execute_result"
    }
   ],
   "source": [
    "movie['title']['fr']"
   ]
  },
  {
   "cell_type": "code",
   "execution_count": 92,
   "metadata": {
    "scrolled": true
   },
   "outputs": [
    {
     "name": "stdout",
     "output_type": "stream",
     "text": [
      "movie is defined!\n"
     ]
    }
   ],
   "source": [
    "movie = {\n",
    "    'title': { 'en': 'The Dark Knight', 'fr': 'Le Chevalier Noir' },\n",
    "    'year': 2008,\n",
    "    'director': 'Christopher Nolan',\n",
    "    'rating': 'PG-13',\n",
    "    'plot': {\n",
    "        'en': 'The Batman is out for blood',\n",
    "        'fr': 'Batman est de retour, plus vénère que jamais'\n",
    "    },\n",
    "    'box office USD': {'USA': 535_234_033, 'rest_of_world': 469_700_000 },\n",
    "    'actors': {\n",
    "        'lead': ['Christian Bale', 'Heath Ledger'],\n",
    "        'support': ['Aaron Eckhardt', 'Morgan Freeman', 'Gary Oldman', 'Maggie Gyllenhaal' ]\n",
    "    }\n",
    "}\n",
    "print(\"movie is defined!\")"
   ]
  },
  {
   "cell_type": "markdown",
   "metadata": {},
   "source": [
    "What does `movie['title']['es']` return?"
   ]
  },
  {
   "cell_type": "code",
   "execution_count": 102,
   "metadata": {},
   "outputs": [],
   "source": [
    "# movie['title']['es']\n",
    "movie['title'].get('es')"
   ]
  },
  {
   "cell_type": "markdown",
   "metadata": {},
   "source": [
    "What does `movie['actors']['support'][2]`return?"
   ]
  },
  {
   "cell_type": "code",
   "execution_count": 103,
   "metadata": {},
   "outputs": [
    {
     "data": {
      "text/plain": [
       "'Gary Oldman'"
      ]
     },
     "execution_count": 103,
     "metadata": {},
     "output_type": "execute_result"
    }
   ],
   "source": [
    "movie['actors']['support'][2]"
   ]
  },
  {
   "cell_type": "markdown",
   "metadata": {},
   "source": [
    "### Optional (non-correct)\n",
    "\n",
    "Find a way to extract one list containing all the actors from the movie."
   ]
  },
  {
   "cell_type": "code",
   "execution_count": null,
   "metadata": {
    "tags": [
     "challengify"
    ]
   },
   "outputs": [],
   "source": [
    "# YOUR CODE HERE"
   ]
  },
  {
   "cell_type": "markdown",
   "metadata": {},
   "source": [
    "Try to calculate the total box office of the movie from `movie`"
   ]
  },
  {
   "cell_type": "code",
   "execution_count": null,
   "metadata": {
    "tags": [
     "challengify"
    ]
   },
   "outputs": [],
   "source": []
  },
  {
   "cell_type": "code",
   "execution_count": null,
   "metadata": {},
   "outputs": [],
   "source": [
    "box_office = {\"US\": 200_000_000, \"EU\": 85_000_000, \"China\": 110_000_000}\n",
    "print(box_office)"
   ]
  },
  {
   "cell_type": "code",
   "execution_count": null,
   "metadata": {
    "tags": [
     "challengify"
    ]
   },
   "outputs": [],
   "source": [
    "# YOUR CODE HERE"
   ]
  },
  {
   "cell_type": "code",
   "execution_count": null,
   "metadata": {},
   "outputs": [],
   "source": []
  },
  {
   "cell_type": "markdown",
   "metadata": {
    "heading_collapsed": true
   },
   "source": [
    "### Optional (corrected)\n",
    "\n",
    "Find a way to extract one list containing all the actors from the movie."
   ]
  },
  {
   "cell_type": "code",
   "execution_count": 106,
   "metadata": {
    "hidden": true,
    "scrolled": true
   },
   "outputs": [
    {
     "data": {
      "text/plain": [
       "['Christian Bale',\n",
       " 'Heath Ledger',\n",
       " 'Aaron Eckhardt',\n",
       " 'Morgan Freeman',\n",
       " 'Gary Oldman',\n",
       " 'Maggie Gyllenhaal']"
      ]
     },
     "execution_count": 106,
     "metadata": {},
     "output_type": "execute_result"
    }
   ],
   "source": [
    "movie['actors']['lead'] + movie['actors']['support']"
   ]
  },
  {
   "cell_type": "code",
   "execution_count": 116,
   "metadata": {
    "hidden": true
   },
   "outputs": [
    {
     "data": {
      "text/plain": [
       "['Christian Bale',\n",
       " 'Heath Ledger',\n",
       " 'Aaron Eckhardt',\n",
       " 'Morgan Freeman',\n",
       " 'Gary Oldman',\n",
       " 'Maggie Gyllenhaal']"
      ]
     },
     "execution_count": 116,
     "metadata": {},
     "output_type": "execute_result"
    }
   ],
   "source": [
    "actors = []\n",
    "for role in movie['actors'].keys():\n",
    "    for actor in movie['actors'][role]:\n",
    "        actors.append(actor)\n",
    "actors"
   ]
  },
  {
   "cell_type": "code",
   "execution_count": 2,
   "metadata": {
    "hidden": true
   },
   "outputs": [
    {
     "name": "stdout",
     "output_type": "stream",
     "text": [
      "{'US': 200000000, 'EU': 85000000, 'China': 110000000}\n"
     ]
    }
   ],
   "source": [
    "box_office = {\"US\": 200_000_000, \"EU\": 85_000_000, \"China\": 110_000_000}\n",
    "print(box_office)"
   ]
  },
  {
   "cell_type": "markdown",
   "metadata": {
    "hidden": true
   },
   "source": [
    "Try to calculate the total box office of the movie from `movie`"
   ]
  },
  {
   "cell_type": "code",
   "execution_count": 3,
   "metadata": {
    "hidden": true
   },
   "outputs": [
    {
     "data": {
      "text/plain": [
       "395000000"
      ]
     },
     "execution_count": 3,
     "metadata": {},
     "output_type": "execute_result"
    }
   ],
   "source": [
    "box_office[\"US\"] + box_office[\"EU\"] + box_office[\"China\"]"
   ]
  },
  {
   "cell_type": "markdown",
   "metadata": {
    "hidden": true
   },
   "source": [
    "Would the code above still work with the following Box Office. How would you compute the total Box Office using a `for` loop?"
   ]
  },
  {
   "cell_type": "code",
   "execution_count": 4,
   "metadata": {
    "hidden": true
   },
   "outputs": [
    {
     "data": {
      "text/plain": [
       "395000000"
      ]
     },
     "execution_count": 4,
     "metadata": {},
     "output_type": "execute_result"
    }
   ],
   "source": [
    "my_sum = 0\n",
    "for value in box_office.values():\n",
    "    my_sum += value\n",
    "my_sum"
   ]
  },
  {
   "cell_type": "code",
   "execution_count": 5,
   "metadata": {
    "hidden": true
   },
   "outputs": [
    {
     "data": {
      "text/plain": [
       "395000000"
      ]
     },
     "execution_count": 5,
     "metadata": {},
     "output_type": "execute_result"
    }
   ],
   "source": [
    "sum(list(box_office.values()))"
   ]
  },
  {
   "cell_type": "code",
   "execution_count": null,
   "metadata": {
    "hidden": true
   },
   "outputs": [],
   "source": []
  },
  {
   "cell_type": "code",
   "execution_count": null,
   "metadata": {
    "hidden": true
   },
   "outputs": [],
   "source": []
  }
 ],
 "metadata": {
  "kernelspec": {
   "display_name": "Python 3 (ipykernel)",
   "language": "python",
   "name": "python3"
  },
  "language_info": {
   "codemirror_mode": {
    "name": "ipython",
    "version": 3
   },
   "file_extension": ".py",
   "mimetype": "text/x-python",
   "name": "python",
   "nbconvert_exporter": "python",
   "pygments_lexer": "ipython3",
   "version": "3.8.12"
  },
  "toc": {
   "base_numbering": 1,
   "nav_menu": {},
   "number_sections": true,
   "sideBar": true,
   "skip_h1_title": false,
   "title_cell": "Table of Contents",
   "title_sidebar": "Contents",
   "toc_cell": false,
   "toc_position": {},
   "toc_section_display": true,
   "toc_window_display": false
  }
 },
 "nbformat": 4,
 "nbformat_minor": 4
}
